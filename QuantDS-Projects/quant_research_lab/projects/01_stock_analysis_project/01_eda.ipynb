{
 "cells": [
  {
   "cell_type": "code",
   "execution_count": null,
   "id": "685e4df8",
   "metadata": {},
   "outputs": [],
   "source": [
    "import pandas as pd\n",
    "import sqlite3\n",
    "\n",
    "conn = sqlite3.connect('../../data/market_data.db')\n",
    "tickers = ['AAPL', 'MSFT', 'SPY', 'IWM']\n",
    "\n",
    "# Load historical close prices\n",
    "prices = pd.read_sql(\n",
    "    f\"SELECT Date, Ticker, Close FROM historical_data WHERE Ticker IN ({','.join(['?']*len(tickers))})\",\n",
    "    conn, params=tickers\n",
    ").pivot(index='Date', columns='Ticker', values='Close')\n"
   ]
  },
  {
   "cell_type": "code",
   "execution_count": null,
   "id": "2c1626c3",
   "metadata": {},
   "outputs": [],
   "source": [
    "import numpy as np\n",
    "\n",
    "log_returns = np.log(prices / prices.shift(1))\n"
   ]
  },
  {
   "cell_type": "code",
   "execution_count": null,
   "id": "d28a16ac",
   "metadata": {},
   "outputs": [],
   "source": [
    "rolling_vol_20 = log_returns.rolling(20).std()\n",
    "rolling_vol_60 = log_returns.rolling(60).std()\n",
    "rolling_vol_120 = log_returns.rolling(120).std()\n"
   ]
  },
  {
   "cell_type": "code",
   "execution_count": null,
   "id": "80c6363d",
   "metadata": {},
   "outputs": [],
   "source": [
    "running_max = prices.cummax()\n",
    "drawdown = (prices - running_max) / running_max\n"
   ]
  },
  {
   "cell_type": "code",
   "execution_count": null,
   "id": "6eeab500",
   "metadata": {},
   "outputs": [],
   "source": [
    "rolling_corr_20 = log_returns.rolling(20).corr(pairwise=True)\n"
   ]
  },
  {
   "cell_type": "code",
   "execution_count": null,
   "id": "483f7fe4",
   "metadata": {},
   "outputs": [],
   "source": [
    "import matplotlib.pyplot as plt\n",
    "import seaborn as sns\n",
    "\n",
    "sns.set(style=\"whitegrid\")\n",
    "plt.figure(figsize=(12,6))\n",
    "for ticker in tickers:\n",
    "    plt.plot(rolling_vol_20[ticker], label=f\"{ticker} 20d Vol\")\n",
    "plt.title(\"Rolling 20-day Volatility\")\n",
    "plt.legend()\n",
    "plt.show()\n"
   ]
  },
  {
   "cell_type": "code",
   "execution_count": null,
   "id": "8b80ebdf",
   "metadata": {},
   "outputs": [],
   "source": [
    "rolling_vol_20.to_csv('../../data/processed/rolling_vol_20.csv')\n",
    "log_returns.to_csv('../../data/processed/log_returns.csv')\n"
   ]
  },
  {
   "cell_type": "code",
   "execution_count": null,
   "id": "a2597bf0",
   "metadata": {},
   "outputs": [],
   "source": []
  }
 ],
 "metadata": {
  "language_info": {
   "name": "python"
  }
 },
 "nbformat": 4,
 "nbformat_minor": 5
}
